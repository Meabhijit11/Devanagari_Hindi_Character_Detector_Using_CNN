{
 "cells": [
  {
   "cell_type": "markdown",
   "id": "1da4d2c2",
   "metadata": {},
   "source": [
    "* In this File , we are going to Prepare our Datasets.\n",
    "* I have already downloaded Each Characters Images by using UCI. (https://archive.ics.uci.edu/ml/datasets/Devanagari+Handwritten+Character+Dataset)\n"
   ]
  },
  {
   "cell_type": "markdown",
   "id": "ee313b69",
   "metadata": {},
   "source": [
    "## Context\n",
    "* This is a dataset of Devanagari Script Characters. It comprises images corresponding to 46 characters, consonants \"ka\" to \"gya\", and the digits 0 to 9. The vowels are missing.\n",
    "* The Dataset also has Numbers from 0 to 9."
   ]
  },
  {
   "cell_type": "markdown",
   "id": "d6f97b3c",
   "metadata": {},
   "source": [
    "* Now let's Import all the necessary libraries required for Model Building. "
   ]
  },
  {
   "cell_type": "code",
   "execution_count": 13,
   "id": "8d839d26",
   "metadata": {},
   "outputs": [],
   "source": [
    "import numpy as np\n",
    "import matplotlib.pyplot as plt\n",
    "import os\n",
    "from keras.models import *\n",
    "import pandas as pd\n",
    "from keras.layers import *\n",
    "from keras.optimizers import *\n",
    "import skimage.io as io\n",
    "from sklearn.model_selection import train_test_split"
   ]
  },
  {
   "cell_type": "markdown",
   "id": "07ffc949",
   "metadata": {},
   "source": [
    "* Now Load the Dataset.\n",
    "* Stored Training dataset in 'train_dir' variable & Testing dataset in 'test_dir' variable."
   ]
  },
  {
   "cell_type": "code",
   "execution_count": 14,
   "id": "639243e7",
   "metadata": {},
   "outputs": [],
   "source": [
    "train_dir = os.listdir('./DevanagariHandwrittenCharacterDataset/Train')\n",
    "\n",
    "test_dir = os.listdir('./DevanagariHandwrittenCharacterDataset/Test')\n",
    "\n",
    "# train_dir = os.listdir('./Train')\n",
    "# test_dir = os.listdir('./Test')"
   ]
  },
  {
   "cell_type": "markdown",
   "id": "6c2a6db4",
   "metadata": {},
   "source": [
    "*  Now here we can directly use this Images & Can Train our Model but that will take too much of Time for Execution because it has 46 Folders & containing 90K Images both Train & Test Images.\n",
    "* Another Technique we can use is that, Convert all the Images into it's Pixel values & stored in a CSV file & with the help of this file We can train our CNN model. "
   ]
  },
  {
   "cell_type": "markdown",
   "id": "ec8b47d9",
   "metadata": {},
   "source": [
    "### Lets create Training Dataset"
   ]
  },
  {
   "cell_type": "code",
   "execution_count": 15,
   "id": "0a053c37",
   "metadata": {},
   "outputs": [],
   "source": [
    "def create_train_data():\n",
    "    ref = {}\n",
    "    X_train = []\n",
    "    Y_train = []\n",
    "    for i in range(0,10,1):\n",
    "        p = 37+i\n",
    "        ref[p] = i\n",
    "    for names in train_dir:\n",
    "        x = names.split('_')\n",
    "        if x[0]=='character':\n",
    "            ref[int(x[1])] = x[2]\n",
    "        di = './DevanagariHandwrittenCharacterDataset/Train/'+names\n",
    "        images = os.listdir(di)\n",
    "        for files in images:\n",
    "            files = di+'/'+files\n",
    "            img = io.imread(files)\n",
    "            X_train.append(img)\n",
    "            if x[0]=='character':\n",
    "                Y_train.append(int(x[1]))\n",
    "            elif x[0]=='digit':\n",
    "                Y_train.append(37 + int(x[1]))\n",
    "    X_train = np.array(X_train)\n",
    "    Y_train = np.asarray(Y_train)\n",
    "    return X_train, Y_train, ref"
   ]
  },
  {
   "cell_type": "markdown",
   "id": "526a0628",
   "metadata": {},
   "source": [
    "### Lets create Testing Dataset"
   ]
  },
  {
   "cell_type": "code",
   "execution_count": 16,
   "id": "3ef638a2",
   "metadata": {},
   "outputs": [],
   "source": [
    "def create_test_data():\n",
    "    X_test = []\n",
    "    Y_test = []\n",
    "    for names in test_dir:\n",
    "        x = names.split('_')\n",
    "        di = './DevanagariHandwrittenCharacterDataset/Test/'+names\n",
    "        images = os.listdir(di)\n",
    "        for files in images:\n",
    "            files = di+'/'+files\n",
    "            img = io.imread(files)\n",
    "            X_test.append(img)\n",
    "            if x[0]=='character':\n",
    "                Y_test.append(int(x[1]))\n",
    "            elif x[0]=='digit':\n",
    "                Y_test.append(37 + int(x[1]))\n",
    "    X_test = np.array(X_test)\n",
    "    Y_test = np.asarray(Y_test)\n",
    "    return X_test, Y_test"
   ]
  },
  {
   "cell_type": "code",
   "execution_count": 17,
   "id": "9130cfd0",
   "metadata": {},
   "outputs": [],
   "source": [
    "X_train, Y_train, ref = create_train_data()\n",
    "\n",
    "X_test, Y_test = create_test_data()"
   ]
  },
  {
   "cell_type": "code",
   "execution_count": 18,
   "id": "1d5e9aea",
   "metadata": {},
   "outputs": [
    {
     "name": "stdout",
     "output_type": "stream",
     "text": [
      "(78200, 1024)\n"
     ]
    }
   ],
   "source": [
    "X_train = X_train.reshape([78200,-1])\n",
    "print(X_train.shape)\n",
    "df = pd.DataFrame(X_train)\n",
    "df.to_csv('X_train.csv')"
   ]
  },
  {
   "cell_type": "code",
   "execution_count": 19,
   "id": "820553cb",
   "metadata": {},
   "outputs": [
    {
     "name": "stdout",
     "output_type": "stream",
     "text": [
      "(13800, 32, 32)\n",
      "(13800, 1024)\n"
     ]
    }
   ],
   "source": [
    "print(X_test.shape)\n",
    "X_test = X_test.reshape([13800,1024])\n",
    "print(X_test.shape)\n",
    "df = pd.DataFrame(X_test)\n",
    "df.to_csv('X_test.csv')"
   ]
  },
  {
   "cell_type": "code",
   "execution_count": 20,
   "id": "4bc58bf3",
   "metadata": {},
   "outputs": [
    {
     "name": "stdout",
     "output_type": "stream",
     "text": [
      "(78200, 1)\n"
     ]
    }
   ],
   "source": [
    "Y_train = Y_train.reshape([78200,-1])\n",
    "print(Y_train.shape)\n",
    "df = pd.DataFrame(Y_train)\n",
    "df.to_csv('Y_train.csv')"
   ]
  },
  {
   "cell_type": "code",
   "execution_count": 21,
   "id": "52eb25b4",
   "metadata": {},
   "outputs": [
    {
     "name": "stdout",
     "output_type": "stream",
     "text": [
      "(13800, 1)\n"
     ]
    }
   ],
   "source": [
    "Y_test = Y_test.reshape([13800,-1])\n",
    "print(Y_test.shape)\n",
    "df = pd.DataFrame(Y_test)\n",
    "df.to_csv('Y_test.csv')"
   ]
  },
  {
   "cell_type": "code",
   "execution_count": null,
   "id": "1f4b24e4",
   "metadata": {},
   "outputs": [],
   "source": []
  }
 ],
 "metadata": {
  "kernelspec": {
   "display_name": "Python 3",
   "language": "python",
   "name": "python3"
  },
  "language_info": {
   "codemirror_mode": {
    "name": "ipython",
    "version": 3
   },
   "file_extension": ".py",
   "mimetype": "text/x-python",
   "name": "python",
   "nbconvert_exporter": "python",
   "pygments_lexer": "ipython3",
   "version": "3.6.9"
  }
 },
 "nbformat": 4,
 "nbformat_minor": 5
}
