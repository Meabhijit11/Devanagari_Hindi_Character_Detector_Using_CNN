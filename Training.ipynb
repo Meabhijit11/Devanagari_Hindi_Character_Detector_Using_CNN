{
 "cells": [
  {
   "cell_type": "markdown",
   "id": "3d620296",
   "metadata": {},
   "source": [
    "## INTRODUCTION:\n",
    "* Handwriting recognition is an art of identifying characters from handwritten images. \n",
    "* Recognition of hand written images is getting more and more attention due to its wide range of applications.\n",
    "* This script (Devanagari) has various characteristics like complex shape, presence of modifiers, similarity between characters which makes recognition of Devanagari characters, a difficult task.\n",
    "* Character recognition techniques associate a symbolic identity with the image of a character. \n",
    "* These character images are preprocessed and then features are extracted from them."
   ]
  },
  {
   "cell_type": "code",
   "execution_count": 1,
   "id": "2a20a137",
   "metadata": {},
   "outputs": [],
   "source": [
    "# Importing necesary packages\n",
    "import numpy as np\n",
    "import pandas as pd\n",
    "from sklearn.model_selection import GridSearchCV \n",
    "from keras.models import Sequential\n",
    "from keras.layers import Dense\n",
    "import warnings\n",
    "warnings.filterwarnings('ignore')\n",
    "from keras.wrappers.scikit_learn import KerasClassifier\n",
    "\n",
    "from tensorflow.keras.optimizers import Adam # - Works\n",
    "\n",
    "from keras.layers import Conv2D, Input, ZeroPadding2D, BatchNormalization, Activation, MaxPooling2D, Flatten, Dense, Dropout"
   ]
  },
  {
   "cell_type": "code",
   "execution_count": 2,
   "id": "b3084add",
   "metadata": {},
   "outputs": [],
   "source": [
    "from tensorflow.keras.models import Sequential\n",
    "from tensorflow.keras.models import Sequential\n",
    "from tensorflow.keras.layers import Dense"
   ]
  },
  {
   "cell_type": "markdown",
   "id": "bbda7180",
   "metadata": {},
   "source": [
    "### Now Lets Import all the CSV files & store in a Variables"
   ]
  },
  {
   "cell_type": "code",
   "execution_count": 3,
   "id": "ec1ddf73",
   "metadata": {},
   "outputs": [],
   "source": [
    "X_train = pd.read_csv('X_train.csv')\n",
    "X_train = X_train.drop(X_train.columns[0], axis = 1)\n",
    "X_train = np.array(X_train)"
   ]
  },
  {
   "cell_type": "code",
   "execution_count": 4,
   "id": "8794ddf4",
   "metadata": {},
   "outputs": [],
   "source": [
    "Y_train = pd.read_csv('Y_train.csv')\n",
    "Y_train = Y_train.drop(Y_train.columns[0], axis = 1)\n",
    "Y_train = np.array(Y_train)"
   ]
  },
  {
   "cell_type": "code",
   "execution_count": 5,
   "id": "05cdcacc",
   "metadata": {},
   "outputs": [],
   "source": [
    "X_test = pd.read_csv('X_test.csv')\n",
    "X_test = X_test.drop(X_test.columns[0], axis = 1)\n",
    "X_test = np.array(X_test)"
   ]
  },
  {
   "cell_type": "code",
   "execution_count": 6,
   "id": "1c0f9d92",
   "metadata": {},
   "outputs": [],
   "source": [
    "Y_test = pd.read_csv('Y_test.csv')\n",
    "Y_test = Y_test.drop(Y_test.columns[0], axis = 1)\n",
    "Y_test = np.array(Y_test)"
   ]
  },
  {
   "cell_type": "markdown",
   "id": "8b68176a",
   "metadata": {},
   "source": [
    "### Reshape the Dataset"
   ]
  },
  {
   "cell_type": "code",
   "execution_count": 7,
   "id": "e18f359a",
   "metadata": {},
   "outputs": [
    {
     "name": "stdout",
     "output_type": "stream",
     "text": [
      "(78200, 32, 32, 1)\n",
      "(78200, 1)\n",
      "(13800, 32, 32, 1)\n",
      "(13800, 1)\n"
     ]
    }
   ],
   "source": [
    "X_train = X_train.reshape((78200,32,32,1))\n",
    "print(X_train.shape)\n",
    "Y_train = Y_train.reshape((78200,1))\n",
    "print(Y_train.shape)\n",
    "X_test = X_test.reshape((13800,32,32,1))\n",
    "print(X_test.shape)\n",
    "Y_test = Y_test.reshape((13800,1))\n",
    "print(Y_test.shape)"
   ]
  },
  {
   "cell_type": "markdown",
   "id": "e13d9a2b",
   "metadata": {},
   "source": [
    "* Now in the above dataset it has Pixels values & These values are between Range on 0 to 255.\n",
    "* Lets convert these value between range 0-1 to reduce computation."
   ]
  },
  {
   "cell_type": "code",
   "execution_count": 8,
   "id": "21b059ea",
   "metadata": {},
   "outputs": [],
   "source": [
    "X_train = X_train/255\n",
    "X_test = X_test/255"
   ]
  },
  {
   "cell_type": "code",
   "execution_count": 9,
   "id": "f6b20050",
   "metadata": {},
   "outputs": [],
   "source": [
    "from sklearn.utils import shuffle"
   ]
  },
  {
   "cell_type": "code",
   "execution_count": 10,
   "id": "9446eb43",
   "metadata": {},
   "outputs": [],
   "source": [
    "X_train, Y_train = shuffle(X_train, Y_train, random_state = 2)\n",
    "X_test, Y_test = shuffle(X_test, Y_test, random_state = 0)"
   ]
  },
  {
   "cell_type": "code",
   "execution_count": 11,
   "id": "ce2cc9d9",
   "metadata": {},
   "outputs": [],
   "source": [
    "import matplotlib.pyplot as plt"
   ]
  },
  {
   "cell_type": "code",
   "execution_count": 12,
   "id": "160900d6",
   "metadata": {},
   "outputs": [
    {
     "data": {
      "text/plain": [
       "<matplotlib.image.AxesImage at 0x1f4ced99780>"
      ]
     },
     "execution_count": 12,
     "metadata": {},
     "output_type": "execute_result"
    },
    {
     "data": {
      "image/png": "[encoded data removed]",
      "text/plain": [
       "<Figure size 432x288 with 1 Axes>"
      ]
     },
     "metadata": {
      "needs_background": "light"
     },
     "output_type": "display_data"
    }
   ],
   "source": [
    "plt.imshow(X_test[0])"
   ]
  },
  {
   "cell_type": "code",
   "execution_count": 13,
   "id": "f0a3e488",
   "metadata": {},
   "outputs": [],
   "source": [
    "from sklearn.model_selection import train_test_split"
   ]
  },
  {
   "cell_type": "markdown",
   "id": "1a22c615",
   "metadata": {},
   "source": [
    "* Now lets split dataset for Training & Testing"
   ]
  },
  {
   "cell_type": "code",
   "execution_count": 14,
   "id": "e223fa2a",
   "metadata": {},
   "outputs": [
    {
     "name": "stdout",
     "output_type": "stream",
     "text": [
      "(5520, 32, 32, 1)\n",
      "(8280, 32, 32, 1)\n"
     ]
    }
   ],
   "source": [
    "X_test, X_val, Y_test, Y_val = train_test_split(X_test, Y_test, test_size = 0.6, random_state = 1)\n",
    "print(X_test.shape)\n",
    "print(X_val.shape)"
   ]
  },
  {
   "cell_type": "code",
   "execution_count": 15,
   "id": "9613c730",
   "metadata": {},
   "outputs": [],
   "source": [
    "from keras.utils.np_utils import to_categorical"
   ]
  },
  {
   "cell_type": "markdown",
   "id": "f8ca5cdf",
   "metadata": {},
   "source": [
    "* Keras provides numpy utility library, which provides functions to perform actions on numpy arrays. \n",
    "* Using the method to_categorical(), a numpy array (or) a vector which has integers that represent different categories, can be converted into a numpy array (or) a matrix which has binary values and has columns equal to the number of categories in the data.\n",
    "* it is used to convert array of labeled data(from 0 to nb_classes - 1) to one-hot vector."
   ]
  },
  {
   "cell_type": "code",
   "execution_count": 16,
   "id": "d555b832",
   "metadata": {},
   "outputs": [
    {
     "name": "stdout",
     "output_type": "stream",
     "text": [
      "(5520, 47)\n"
     ]
    }
   ],
   "source": [
    "Y_test = to_categorical(Y_test)\n",
    "print(Y_test.shape)"
   ]
  },
  {
   "cell_type": "code",
   "execution_count": 17,
   "id": "3a3aeda9",
   "metadata": {},
   "outputs": [
    {
     "name": "stdout",
     "output_type": "stream",
     "text": [
      "(8280, 47)\n"
     ]
    }
   ],
   "source": [
    "Y_val = to_categorical(Y_val)\n",
    "print(Y_val.shape)"
   ]
  },
  {
   "cell_type": "code",
   "execution_count": 18,
   "id": "ffc9ed1c",
   "metadata": {},
   "outputs": [
    {
     "name": "stdout",
     "output_type": "stream",
     "text": [
      "(78200, 47)\n"
     ]
    }
   ],
   "source": [
    "Y_train = to_categorical(Y_train)\n",
    "print(Y_train.shape)"
   ]
  },
  {
   "cell_type": "markdown",
   "id": "f5e3de28",
   "metadata": {},
   "source": [
    "# Hidden Layer"
   ]
  },
  {
   "cell_type": "code",
   "execution_count": 20,
   "id": "0b7506ce",
   "metadata": {},
   "outputs": [
    {
     "name": "stdout",
     "output_type": "stream",
     "text": [
      "Model: \"sequential\"\n",
      "_________________________________________________________________\n",
      "Layer (type)                 Output Shape              Param #   \n",
      "=================================================================\n",
      "conv2d (Conv2D)              (None, 30, 30, 64)        640       \n",
      "_________________________________________________________________\n",
      "max_pooling2d (MaxPooling2D) (None, 15, 15, 64)        0         \n",
      "_________________________________________________________________\n",
      "conv2d_1 (Conv2D)            (None, 15, 15, 128)       73856     \n",
      "_________________________________________________________________\n",
      "conv2d_2 (Conv2D)            (None, 15, 15, 128)       147584    \n",
      "_________________________________________________________________\n",
      "conv2d_3 (Conv2D)            (None, 15, 15, 256)       819456    \n",
      "_________________________________________________________________\n",
      "max_pooling2d_1 (MaxPooling2 (None, 7, 7, 256)         0         \n",
      "_________________________________________________________________\n",
      "conv2d_4 (Conv2D)            (None, 7, 7, 256)         1638656   \n",
      "_________________________________________________________________\n",
      "conv2d_5 (Conv2D)            (None, 5, 5, 100)         230500    \n",
      "_________________________________________________________________\n",
      "max_pooling2d_2 (MaxPooling2 (None, 2, 2, 100)         0         \n",
      "_________________________________________________________________\n",
      "flatten (Flatten)            (None, 400)               0         \n",
      "_________________________________________________________________\n",
      "dropout (Dropout)            (None, 400)               0         \n",
      "_________________________________________________________________\n",
      "dense (Dense)                (None, 512)               205312    \n",
      "_________________________________________________________________\n",
      "dense_1 (Dense)              (None, 128)               65664     \n",
      "_________________________________________________________________\n",
      "dense_2 (Dense)              (None, 47)                6063      \n",
      "=================================================================\n",
      "Total params: 3,187,731\n",
      "Trainable params: 3,187,731\n",
      "Non-trainable params: 0\n",
      "_________________________________________________________________\n"
     ]
    }
   ],
   "source": [
    "model = Sequential([\n",
    "    Conv2D(64, 3, activation='relu', input_shape=(32,32,1)),\n",
    "    MaxPooling2D(2, 2),\n",
    "    \n",
    "    Conv2D(128, 3, padding='same', activation='relu'),\n",
    "    \n",
    "    Conv2D(128, 3, padding='same', activation='relu'),\n",
    "    Conv2D(256, 5, padding='same', activation='relu'),\n",
    "    MaxPooling2D(2, 2),\n",
    "    \n",
    "    Conv2D(256, 5, padding='same', activation='relu'),\n",
    "\n",
    "    Conv2D(100, (3, 3), activation='relu'),\n",
    "    MaxPooling2D(2, 2),\n",
    "\n",
    "    Flatten(),\n",
    "    Dropout(0.5),\n",
    "    Dense(512, activation='relu'),\n",
    "    Dense(128, activation='relu'),\n",
    "    \n",
    "    Dense(47, activation='softmax')\n",
    "])\n",
    "\n",
    "model.summary()"
   ]
  },
  {
   "cell_type": "markdown",
   "id": "43800bc5",
   "metadata": {},
   "source": [
    "* In the above line, We have implented our Neural Network.\n",
    "* This Neural network having different Layes of Neurons , Like 64 Neurons, 128 Neurons likewise & at the output 47 Neurons.\n",
    "* Activation function in Starting layes we used 'RELU' \n",
    "* And at the Last layes we used 'Softmax' Activation Function."
   ]
  },
  {
   "cell_type": "code",
   "execution_count": 21,
   "id": "4c41d2e9",
   "metadata": {},
   "outputs": [],
   "source": [
    "model.compile(Adam(lr = 10e-4), loss = 'categorical_crossentropy', metrics = ['accuracy'])"
   ]
  },
  {
   "cell_type": "markdown",
   "id": "db87a405",
   "metadata": {},
   "source": [
    "* Optimizer that we have used is \"Adam\"."
   ]
  },
  {
   "cell_type": "markdown",
   "id": "35b4af94",
   "metadata": {},
   "source": [
    "### Neural Network Training\n",
    "Now by using all the resources like Datasets, Hidden layes , Optimizer lets fit into model & Train a Neural Network."
   ]
  },
  {
   "cell_type": "code",
   "execution_count": 22,
   "id": "ade1717a",
   "metadata": {},
   "outputs": [
    {
     "name": "stdout",
     "output_type": "stream",
     "text": [
      "Epoch 1/5\n",
      "196/196 [==============================] - 1365s 7s/step - loss: 1.4431 - accuracy: 0.5992 - val_loss: 0.1738 - val_accuracy: 0.9470\n",
      "Epoch 2/5\n",
      "196/196 [==============================] - 1202s 6s/step - loss: 0.2212 - accuracy: 0.9328 - val_loss: 0.0865 - val_accuracy: 0.9729\n",
      "Epoch 3/5\n",
      "196/196 [==============================] - 1350s 7s/step - loss: 0.1224 - accuracy: 0.9631 - val_loss: 0.0667 - val_accuracy: 0.9793\n",
      "Epoch 4/5\n",
      "196/196 [==============================] - 3960s 20s/step - loss: 0.0834 - accuracy: 0.9751 - val_loss: 0.0551 - val_accuracy: 0.9838\n",
      "Epoch 5/5\n",
      "196/196 [==============================] - 1227s 6s/step - loss: 0.0632 - accuracy: 0.9805 - val_loss: 0.0387 - val_accuracy: 0.9877\n"
     ]
    }
   ],
   "source": [
    "history = model.fit(X_train, Y_train, epochs = 5, batch_size = 400, validation_data = (X_val, Y_val), verbose = 1)"
   ]
  },
  {
   "cell_type": "code",
   "execution_count": 26,
   "id": "857dc0cc",
   "metadata": {},
   "outputs": [
    {
     "name": "stdout",
     "output_type": "stream",
     "text": [
      "259/259 [==============================] - 31s 119ms/step - loss: 0.0387 - accuracy: 0.9877\n",
      "[0.038654666393995285, 0.9876811504364014]\n"
     ]
    }
   ],
   "source": [
    "print(model.evaluate(X_val , Y_val))# evaluate test data"
   ]
  },
  {
   "cell_type": "markdown",
   "id": "e0d6b963",
   "metadata": {},
   "source": [
    "### Accuracy we got around 98 %."
   ]
  },
  {
   "cell_type": "code",
   "execution_count": 27,
   "id": "b71d29dd",
   "metadata": {},
   "outputs": [
    {
     "name": "stdout",
     "output_type": "stream",
     "text": [
      "INFO:tensorflow:Assets written to: Hindi_Model\\assets\n"
     ]
    }
   ],
   "source": [
    "model.save(r'Hindi_Model') #saved the  model"
   ]
  },
  {
   "cell_type": "markdown",
   "id": "164d74f4",
   "metadata": {},
   "source": [
    "### Save our CNN Model "
   ]
  },
  {
   "cell_type": "code",
   "execution_count": 30,
   "id": "16600493",
   "metadata": {},
   "outputs": [
    {
     "data": {
      "image/png": "[encoded data removed]",
      "text/plain": [
       "<Figure size 432x288 with 2 Axes>"
      ]
     },
     "metadata": {
      "needs_background": "light"
     },
     "output_type": "display_data"
    }
   ],
   "source": [
    "fig, ax = plt.subplots(2,1)\n",
    "ax[0].plot(history.history['loss'], color='b', label=\"Training loss\")\n",
    "ax[0].plot(history.history['val_loss'], color='r', label=\"validation loss\",axes =ax[0])\n",
    "legend = ax[0].legend(loc='best', shadow=True)\n",
    "\n",
    "ax[1].plot(history.history['accuracy'], color='b', label=\"Training accuracy\")\n",
    "ax[1].plot(history.history['val_accuracy'], color='r',label=\"Validation accuracy\")\n",
    "legend = ax[1].legend(loc='best', shadow=True)"
   ]
  },
  {
   "cell_type": "code",
   "execution_count": null,
   "id": "1e58a9c9",
   "metadata": {},
   "outputs": [],
   "source": []
  }
 ],
 "metadata": {
  "kernelspec": {
   "display_name": "Python 3",
   "language": "python",
   "name": "python3"
  },
  "language_info": {
   "codemirror_mode": {
    "name": "ipython",
    "version": 3
   },
   "file_extension": ".py",
   "mimetype": "text/x-python",
   "name": "python",
   "nbconvert_exporter": "python",
   "pygments_lexer": "ipython3",
   "version": "3.6.9"
  }
 },
 "nbformat": 4,
 "nbformat_minor": 5
}
